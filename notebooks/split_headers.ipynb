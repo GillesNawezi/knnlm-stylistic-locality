{
 "cells": [
  {
   "cell_type": "raw",
   "id": "8eca4fad-69b0-46d3-94fa-6480246b4e6b",
   "metadata": {},
   "source": [
    "import pandas as pd \n"
   ]
  },
  {
   "cell_type": "code",
   "execution_count": 1,
   "id": "950c9395-0a76-45c3-8408-e7a1d3f4c869",
   "metadata": {
    "scrolled": true,
    "tags": []
   },
   "outputs": [
    {
     "name": "stdout",
     "output_type": "stream",
     "text": [
      "input/wiki.train.tokens\n",
      "input/wiki.test.tokens\n",
      "input/wiki.valid.tokens\n",
      "done\n"
     ]
    }
   ],
   "source": [
    "sets = [\"train\",\"test\",\"valid\"]\n",
    "\n",
    "for x in sets:\n",
    "    input_file = f\"input/wiki.{x}.tokens\"\n",
    "    output_file_token = f\"output/wiki_{x}_tokens\"\n",
    "    output_file_header = f\"output/wiki_{x}_headers\"\n",
    "\n",
    "    print(input_file)\n",
    "    with open(input_file) as f, open(output_file_token, 'w') as out_t, open(output_file_header, 'w') as out_h:\n",
    "        line = f.readline()\n",
    "        lim = 100000\n",
    "        count=0\n",
    "        while line and count<lim:\n",
    "            line = f.readline()\n",
    "            doc = line.strip()\n",
    "            if doc.strip() and doc[-1] == '=' and doc[0] == '=':            \n",
    "                out_h.write(doc+\"\\n\") \n",
    "            elif doc.strip(): \n",
    "                count+=1\n",
    "                out_t.write(doc+\"\\n\")\n",
    "                out_h.write(str(count)+\"\\n\")  #Save the position of the doc in the headers file          \n",
    "            else: \n",
    "                continue\n",
    "            if count>lim:\n",
    "                print(count)\n",
    "                \n",
    "print(\"done\")"
   ]
  },
  {
   "cell_type": "raw",
   "id": "4c5fafc4-efe7-4944-b07f-d41fbedce8f9",
   "metadata": {},
   "source": [
    " Doesnt work for: \n",
    " \n",
    " Goals Against ; GAA = Goals Against Average ; SA = Shots Against ; SV \n",
    " \n",
    " If the ylide carbon is substituted with an aryl or allyl group , the reagent is referred to as a semi @-@ stabilized ylide . These have been developed extensively , second only to the classical methylene reagents ( R1 = R2 = H ) . The substitution pattern on aryl reagents can heavily influence the selectivity of the reaction as per the criteria above . "
   ]
  },
  {
   "cell_type": "code",
   "execution_count": null,
   "id": "facf1ce9-cbba-413c-aa4b-8744848c34f0",
   "metadata": {},
   "outputs": [],
   "source": []
  }
 ],
 "metadata": {
  "kernelspec": {
   "display_name": "Python 3 (ipykernel)",
   "language": "python",
   "name": "python3"
  },
  "language_info": {
   "codemirror_mode": {
    "name": "ipython",
    "version": 3
   },
   "file_extension": ".py",
   "mimetype": "text/x-python",
   "name": "python",
   "nbconvert_exporter": "python",
   "pygments_lexer": "ipython3",
   "version": "3.8.12"
  }
 },
 "nbformat": 4,
 "nbformat_minor": 5
}
