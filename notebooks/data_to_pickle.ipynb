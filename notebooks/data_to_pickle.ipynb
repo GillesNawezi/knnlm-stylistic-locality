{
 "cells": [
  {
   "cell_type": "code",
   "execution_count": 1,
   "id": "15595375-bfec-4241-b128-0022e178877e",
   "metadata": {},
   "outputs": [
    {
     "name": "stdout",
     "output_type": "stream",
     "text": [
      "/mnt/g/projects/knnlm-stylistic-locality\n"
     ]
    }
   ],
   "source": [
    "import pickle\n",
    "import pathlib\n",
    "global_path = str(pathlib.Path().resolve().parent)\n",
    "print(global_path)"
   ]
  },
  {
   "cell_type": "code",
   "execution_count": 2,
   "id": "cc926e16-05da-47a1-a768-857da8bbf14a",
   "metadata": {},
   "outputs": [],
   "source": [
    "# Read as bytes\n",
    "\n",
    "path = global_path + \"/examples/language_model/wikitext103_seg/\"\n",
    "split = \"valid\"\n",
    "\n",
    "with open(path + f'wiki.{split}.tokens', 'rb') as f:\n",
    "    data =  f.read()\n",
    "\n",
    "# Save as pickle\n",
    "with open(f'{split}.pkl', 'wb') as f:\n",
    "    pickle.dump(data, f)\n",
    "\n",
    "# Load as pickle\n",
    "with open(f'{split}.pkl', 'rb') as f:\n",
    "   data_pickle = pickle.load(f)"
   ]
  },
  {
   "cell_type": "code",
   "execution_count": 3,
   "id": "c737ac72-8028-4858-b2b8-36ef3961e2e6",
   "metadata": {},
   "outputs": [],
   "source": [
    "\n",
    "import sling"
   ]
  },
  {
   "cell_type": "code",
   "execution_count": null,
   "id": "295df8f7-0b1d-4ed5-8766-769951da23e9",
   "metadata": {},
   "outputs": [],
   "source": []
  }
 ],
 "metadata": {
  "kernelspec": {
   "display_name": "Python 3 (ipykernel)",
   "language": "python",
   "name": "python3"
  },
  "language_info": {
   "codemirror_mode": {
    "name": "ipython",
    "version": 3
   },
   "file_extension": ".py",
   "mimetype": "text/x-python",
   "name": "python",
   "nbconvert_exporter": "python",
   "pygments_lexer": "ipython3",
   "version": "3.8.12"
  }
 },
 "nbformat": 4,
 "nbformat_minor": 5
}
